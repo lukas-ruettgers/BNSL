{
 "cells": [
  {
   "cell_type": "code",
   "execution_count": 38,
   "metadata": {},
   "outputs": [
    {
     "name": "stdout",
     "output_type": "stream",
     "text": [
      "[74. 48. 38. ... 62. 61. 35.]\n",
      "data about  [ 2. 66. 67.  1.]  is read\n"
     ]
    }
   ],
   "source": [
    "from data_score import Read_Data\n",
    "\n",
    "# n = 3\n",
    "# m = 2\n",
    "# D = Read_Data('feature_data_1', n)\n",
    "# names = ['cirr', 'dia', 'leuk']\n",
    "# use_y = True\n",
    "\n",
    "# n = 3\n",
    "# m = 2\n",
    "# D = Read_Data('feature_data_2', n)\n",
    "# names = ['bmi', 'dia', 'hepa_fail']\n",
    "# use_y = True\n",
    "\n",
    "# n = 4\n",
    "# m = 3\n",
    "# D = Read_Data('feature_data_3', n)\n",
    "# names = ['bmi', 'dia', 'hepa_fail', 'sex']\n",
    "# use_y = False\n",
    "\n",
    "n = 4\n",
    "m = 3\n",
    "D = Read_Data('feature_data_4', n)\n",
    "names = ['bmi', 'dia', 'hepa_fail', 'age']\n",
    "use_y = False\n",
    "\n",
    "# a few tips to prepare feature data:\n",
    "    # 1.replace tabular to space\n",
    "    # 2.use the first line to record the index of features and the number of lines\n",
    "show_BF = False\n",
    "onelocal = False\n"
   ]
  },
  {
   "cell_type": "code",
   "execution_count": 61,
   "metadata": {},
   "outputs": [],
   "source": [
    "from hamiltonian import bf, hamiltonian_para, calculate_Delta_ji, generate_delta\n",
    "locality = None\n",
    "# locality = 2\n",
    "\n",
    "Delta_ji = calculate_Delta_ji(n, m, D)\n",
    "delta_max_i, delta_cons_ij, delta_trans_ijk = generate_delta(Delta_ji)\n",
    "delta_norm = 0\n",
    "C, h, J = hamiltonian_para(n, m, D, delta_max_i, delta_cons_ij, delta_trans_ijk, delta_norm, locality = locality, use_y = use_y)"
   ]
  },
  {
   "cell_type": "code",
   "execution_count": 3,
   "metadata": {},
   "outputs": [],
   "source": [
    "# bf(C, h, J, n)"
   ]
  },
  {
   "cell_type": "code",
   "execution_count": 62,
   "metadata": {},
   "outputs": [
    {
     "name": "stdout",
     "output_type": "stream",
     "text": [
      "{'111100100011010011': 100, '110101100011010010': 72, '110000100011010011': 66, '111000100011010011': 55, '100000100011010011': 52, '110100100011010010': 49, '011110000110010011': 47, '111111101010011010': 43, '100111100011010010': 43, '000001000111010010': 43}\n"
     ]
    }
   ],
   "source": [
    "from qannealing import annealing\n",
    "from qiskit import  transpile\n",
    "from qiskit_aer import AerSimulator\n",
    "import heapq\n",
    "from operator import itemgetter\n",
    "\n",
    "M = 100\n",
    "T = 10\n",
    "lamda = 1\n",
    "shots = 10000\n",
    "circ = annealing(n, M, h, J, T, lamda, use_y)\n",
    "simulator = AerSimulator()\n",
    "compiled_circuit = transpile(circ, simulator)\n",
    "job = simulator.run(compiled_circuit, shots = shots)\n",
    "res = job.result()\n",
    "counts = res.get_counts(compiled_circuit)\n",
    "best_counts = dict(heapq.nlargest(10, counts.items(),key=itemgetter(1)))\n",
    "print(best_counts)"
   ]
  },
  {
   "cell_type": "code",
   "execution_count": 63,
   "metadata": {},
   "outputs": [
    {
     "name": "stdout",
     "output_type": "stream",
     "text": [
      "[0, 0, 1, 1, 0, 1, 0, 0, 1, 1, 1, 0] [1, 1, 0, 0, 0, 0] -1 False True True\n",
      "[1, 0, 1, 1, 0, 1, 0, 0, 1, 1, 1, 0] [0, 1, 0, 1, 0, 0] -1 False True True\n",
      "[0, 0, 1, 1, 0, 1, 0, 0, 1, 1, 1, 0] [1, 1, 1, 1, 0, 0] -1 False True True\n",
      "[0, 0, 1, 1, 0, 1, 0, 0, 1, 1, 1, 0] [1, 1, 1, 0, 0, 0] -1 False True True\n",
      "[0, 0, 1, 1, 0, 1, 0, 0, 1, 1, 1, 0] [1, 1, 1, 1, 1, 0] -1 False True True\n",
      "[1, 0, 1, 1, 0, 1, 0, 0, 1, 1, 1, 0] [1, 1, 0, 1, 0, 0] -1 False True True\n",
      "[0, 0, 1, 1, 0, 1, 1, 0, 0, 1, 1, 1] [1, 0, 0, 0, 0, 1] -1 False True True\n",
      "[1, 0, 1, 0, 0, 1, 1, 0, 1, 0, 1, 0] [0, 0, 0, 0, 0, 0] -1 False True True\n",
      "[1, 0, 1, 1, 0, 1, 0, 0, 1, 1, 1, 0] [0, 0, 0, 1, 1, 0] -1 False True True\n",
      "[1, 0, 1, 1, 0, 1, 0, 0, 0, 1, 1, 1] [0, 1, 1, 1, 1, 1] -1 False True True\n"
     ]
    },
    {
     "data": {
      "image/png": "[encoded data removed]",
      "text/plain": [
       "<Figure size 640x480 with 1 Axes>"
      ]
     },
     "metadata": {},
     "output_type": "display_data"
    },
    {
     "name": "stdout",
     "output_type": "stream",
     "text": [
      "the optimal ans is  [0, 0, 1, 1, 0, 1, 0, 0, 1, 1, 1, 0] [1, 1, 0, 0, 0, 0]\n",
      "There is mutual connection between two nodes or some r_ij is wrong. \n"
     ]
    }
   ],
   "source": [
    "from analysis_toolkit import res_extractor, res_draw\n",
    "import numpy as np\n",
    "\n",
    "d0 = r0 = y0 = is_cons0 = is_dag0 = is_legal0 = G0 = None\n",
    "for tmp in best_counts:\n",
    "    d, r, y, is_cons, is_dag, is_legal, G = res_extractor(tmp, n, m, use_y, names)\n",
    "    print(d, r, y, is_cons, is_dag, is_legal)\n",
    "    if d0 == None:\n",
    "        d0, r0, y0, is_cons0, is_dag0, is_legal0, G0 = d, r, y, is_cons, is_dag, is_legal, G\n",
    "res_draw(d0, r0, y0, is_cons0, is_dag0, is_legal0, G0, use_y)"
   ]
  }
 ],
 "metadata": {
  "kernelspec": {
   "display_name": "Python 3 (ipykernel)",
   "language": "python",
   "name": "python3"
  },
  "language_info": {
   "codemirror_mode": {
    "name": "ipython",
    "version": 3
   },
   "file_extension": ".py",
   "mimetype": "text/x-python",
   "name": "python",
   "nbconvert_exporter": "python",
   "pygments_lexer": "ipython3",
   "version": "3.10.12"
  }
 },
 "nbformat": 4,
 "nbformat_minor": 2
}
